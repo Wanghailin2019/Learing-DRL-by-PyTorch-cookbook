{
 "cells": [
  {
   "cell_type": "markdown",
   "metadata": {},
   "source": [
    "## 4.3 PyTorch MNIST手写数据集识别"
   ]
  },
  {
   "cell_type": "code",
   "execution_count": 1,
   "metadata": {
    "collapsed": true
   },
   "outputs": [],
   "source": [
    "#下载手写数字图像数据MNIST\n",
    "\n",
    "from sklearn.datasets import fetch_openml\n",
    "mnist = fetch_openml('mnist_784', version=1, data_home=\".\")  # data_home参数指定保存的位置\n",
    "\n"
   ]
  },
  {
   "cell_type": "markdown",
   "metadata": {},
   "source": [
    "#### pytorch实现深度学习分为6个步骤：\n",
    "1. 预处理数据\n",
    "2. 创建DataLoader\n",
    "3. 构建神经网络\n",
    "4. 设置误差函数和优化方法\n",
    "5. 设置学习和推理\n",
    "6. 执行学习和推理"
   ]
  },
  {
   "cell_type": "code",
   "execution_count": 2,
   "metadata": {
    "collapsed": true
   },
   "outputs": [],
   "source": [
    "# 1. 预处理数据（拆分为图像数据和标签并标准化）\n",
    "\n",
    "X = mnist.data / 255  # 0-255归一化为0~1\n",
    "y = mnist.target\n",
    "\n",
    "# 2020年12月1日\n",
    "#由于MNIST数据集的更改，标签不是数字数据，因此\n",
    "#通过以下方式转换为NumPy数组的数字类型\n",
    "\n",
    "import numpy as np\n",
    "y = np.array(y)\n",
    "y = y.astype(np.int32)\n"
   ]
  },
  {
   "cell_type": "code",
   "execution_count": 3,
   "metadata": {
    "scrolled": true
   },
   "outputs": [
    {
     "name": "stdout",
     "output_type": "stream",
     "text": [
      "该图像数据的标签为5\n"
     ]
    },
    {
     "data": {
      "image/png": "[encoded data removed]",
      "text/plain": [
       "<Figure size 432x288 with 1 Axes>"
      ]
     },
     "metadata": {},
     "output_type": "display_data"
    }
   ],
   "source": [
    "# 可视化第一个MNIST数据\n",
    "\n",
    "# 2020年12月1日\n",
    "# 在％matplotlib中的％后删除空格\n",
    "\n",
    "import matplotlib.pyplot as plt\n",
    "%matplotlib inline\n",
    "\n",
    "plt.imshow(X[0].reshape(28, 28), cmap='gray')\n",
    "print(\"该图像数据的标签为{:.0f}\".format(y[0]))\n"
   ]
  },
  {
   "cell_type": "code",
   "execution_count": 5,
   "metadata": {},
   "outputs": [],
   "source": [
    "# 2. 创建一个DataLoader\n",
    "\n",
    "import torch\n",
    "from torch.utils.data import TensorDataset, DataLoader\n",
    "from sklearn.model_selection import train_test_split\n",
    "\n",
    "# 2.1 将数据分为训练集和测试集（6：1）\n",
    "X_train, X_test, y_train, y_test = train_test_split(\n",
    "    X, y, test_size=1/7, random_state=0)\n",
    "\n",
    "# 2.2 将数据转换为PyTorch Tensor\n",
    "X_train = torch.Tensor(X_train)\n",
    "X_test = torch.Tensor(X_test)\n",
    "y_train = torch.LongTensor(y_train)\n",
    "y_test = torch.LongTensor(y_test)\n",
    "\n",
    "# 2.3 使用数据和标签创建数据集\n",
    "ds_train = TensorDataset(X_train, y_train)\n",
    "ds_test = TensorDataset(X_test, y_test)\n",
    "\n",
    "# 2.4 使用一组数据和标签创建Dataset\n",
    "# 与Chainer的iterators.SerialIterator类似\n",
    "loader_train = DataLoader(ds_train, batch_size=64, shuffle=True)\n",
    "loader_test = DataLoader(ds_test, batch_size=64, shuffle=False)\n",
    "\n"
   ]
  },
  {
   "cell_type": "markdown",
   "metadata": {},
   "source": [
    "- fc1是一个具有28×28×1=784个神经元的输入层，并将其输出到100个神经元。（全连接）\n",
    "- relu1通过ReLU转换fc1的100个神经元的输出。ReLU是输入为负时输出0、输入为正时直接输出的单元。\n",
    "- 接下来，添加由100个输入-输出神经元组成的fc2层，并在relu2中通过ReLU进行转换。\n",
    "- 最后，fc3层有10个神经元，输出对应于标记的0~9."
   ]
  },
  {
   "cell_type": "code",
   "execution_count": 6,
   "metadata": {},
   "outputs": [
    {
     "name": "stdout",
     "output_type": "stream",
     "text": [
      "Sequential(\n",
      "  (fc1): Linear(in_features=784, out_features=100, bias=True)\n",
      "  (relu1): ReLU()\n",
      "  (fc2): Linear(in_features=100, out_features=100, bias=True)\n",
      "  (relu2): ReLU()\n",
      "  (fc3): Linear(in_features=100, out_features=10, bias=True)\n",
      ")\n"
     ]
    }
   ],
   "source": [
    "# 3. 建立网络\n",
    "# Keras风格搭建网络\n",
    "\n",
    "from torch import nn\n",
    "\n",
    "model = nn.Sequential()\n",
    "model.add_module('fc1', nn.Linear(28*28*1, 100))\n",
    "model.add_module('relu1', nn.ReLU())\n",
    "model.add_module('fc2', nn.Linear(100, 100))\n",
    "model.add_module('relu2', nn.ReLU())\n",
    "model.add_module('fc3', nn.Linear(100, 10))\n",
    "\n",
    "print(model)\n"
   ]
  },
  {
   "cell_type": "code",
   "execution_count": 8,
   "metadata": {
    "collapsed": true
   },
   "outputs": [],
   "source": [
    "# 4. 设置误差函数及优化方法\n",
    "\n",
    "from torch import optim\n",
    "\n",
    "# 设置误差函数\n",
    "loss_fn = nn.CrossEntropyLoss()  # 很多时候使用criterion作为变量名\n",
    "\n",
    "# 选择学习权重参数时的优化方法\n",
    "optimizer = optim.Adam(model.parameters(), lr=0.01)\n"
   ]
  },
  {
   "cell_type": "code",
   "execution_count": 9,
   "metadata": {
    "collapsed": true
   },
   "outputs": [],
   "source": [
    "# 5. 设置学习和推理\n",
    "# 5-1. 定义学习1轮所做的事情\n",
    "# 相当于Chainer的training.Trainer()\n",
    "\n",
    "\n",
    "def train(epoch):\n",
    "    model.train()  # 将网络切换到训练模式\n",
    "\n",
    "    # 从数据加载器中取出一个小批量并计算\n",
    "    for data, targets in loader_train:\n",
    "      \n",
    "        optimizer.zero_grad()  # 初始梯度设置为0\n",
    "        outputs = model(data)  # 输入数据并计算输出\n",
    "        loss = loss_fn(outputs, targets)  # 计算输出和训练数据标签之间的误差\n",
    "        loss.backward()  # 对误差进行反向传播\n",
    "        optimizer.step()  # 更新权重\n",
    "\n",
    "    print(\"epoch{}：结束\\n\".format(epoch))\n"
   ]
  },
  {
   "cell_type": "code",
   "execution_count": 10,
   "metadata": {
    "collapsed": true
   },
   "outputs": [],
   "source": [
    "# 5. 设置学习和推理\n",
    "# 5-2. 定义一次推理中要做的事情\n",
    "# 类似于Chainer的trainer.extend(extensions.Evaluator()\n",
    "\n",
    "\n",
    "def test():\n",
    "    model.eval()  # 将网络切换到推理模式\n",
    "    correct = 0\n",
    "\n",
    "    # 从数据加载器中取出一个小批量并计算\n",
    "    with torch.no_grad():  # 输入数据并计算输出\n",
    "        for data, targets in loader_test:\n",
    "\n",
    "            outputs = model(data)  # 找到概率最高的标签\n",
    "\n",
    "            # 推论\n",
    "            _, predicted = torch.max(outputs.data, 1)  # 找到概率最高的标签\n",
    "            correct += predicted.eq(targets.data.view_as(predicted)).sum()  # 如果计算结果和标签一致，则计数加一\n",
    "\n",
    "    # 输出正确答案率\n",
    "    data_num = len(loader_test.dataset)  # 数据的总数\n",
    "    print('\\n测试数据的准确率: {}/{} ({:.0f}%)\\n'.format(correct,\n",
    "                                                   data_num, 100. * correct / data_num))\n"
   ]
  },
  {
   "cell_type": "code",
   "execution_count": 11,
   "metadata": {},
   "outputs": [
    {
     "name": "stdout",
     "output_type": "stream",
     "text": [
      "\n",
      "测试数据的准确率: 908/10000 (9%)\n",
      "\n"
     ]
    }
   ],
   "source": [
    "# 在未学习的情况下推理测试数据\n",
    "test()\n"
   ]
  },
  {
   "cell_type": "code",
   "execution_count": 12,
   "metadata": {},
   "outputs": [
    {
     "name": "stdout",
     "output_type": "stream",
     "text": [
      "epoch0：结束\n",
      "\n",
      "epoch1：结束\n",
      "\n",
      "epoch2：结束\n",
      "\n",
      "\n",
      "测试数据的准确率: 9554/10000 (96%)\n",
      "\n"
     ]
    }
   ],
   "source": [
    "# 6. 学习三轮\n",
    "for epoch in range(3):\n",
    "    train(epoch)\n",
    "\n",
    "test()\n"
   ]
  },
  {
   "cell_type": "code",
   "execution_count": 17,
   "metadata": {},
   "outputs": [
    {
     "name": "stdout",
     "output_type": "stream",
     "text": [
      "预测结果是2\n",
      "这一图像数据的正确标签是2\n"
     ]
    },
    {
     "data": {
      "image/png": "[encoded data removed]",
      "text/plain": [
       "<Figure size 432x288 with 1 Axes>"
      ]
     },
     "metadata": {},
     "output_type": "display_data"
    }
   ],
   "source": [
    "# 例如，推理第2018个图像数据\n",
    "\n",
    "index = 2018\n",
    "\n",
    "model.eval()  # 将网络切换到推理模式\n",
    "data = X_test[index]\n",
    "output = model(data)  # 输入数据并计算输出\n",
    "_, predicted = torch.max(output.data, 0)  # 查找最大概率的标签\n",
    "\n",
    "print(\"预测结果是{}\".format(predicted))\n",
    "\n",
    "X_test_show = (X_test[index]).numpy()\n",
    "plt.imshow(X_test_show.reshape(28, 28), cmap='gray')\n",
    "print(\"这一图像数据的正确标签是{:.0f}\".format(y_test[index]))\n"
   ]
  },
  {
   "cell_type": "code",
   "execution_count": 12,
   "metadata": {
    "collapsed": true
   },
   "outputs": [],
   "source": [
    "#-----------------------------------------------"
   ]
  },
  {
   "cell_type": "markdown",
   "metadata": {},
   "source": [
    "上面的网络构造是以Keras风格实现，但是如果要根据Chainer之类的输入实现灵活的计算，可以按照如下所示进行更改。“Define by Run”的特点是指模型可以根据输入数据x更改forward计算方式。"
   ]
  },
  {
   "cell_type": "code",
   "execution_count": 19,
   "metadata": {},
   "outputs": [
    {
     "name": "stdout",
     "output_type": "stream",
     "text": [
      "Net(\n",
      "  (fc1): Linear(in_features=784, out_features=100, bias=True)\n",
      "  (fc2): Linear(in_features=100, out_features=100, bias=True)\n",
      "  (fc3): Linear(in_features=100, out_features=10, bias=True)\n",
      ")\n"
     ]
    }
   ],
   "source": [
    "# 3. 构建网络\n",
    "# 神经网络的设置（Chainer）风格\n",
    "import torch.nn as nn\n",
    "import torch.nn.functional as F\n",
    "\n",
    "\n",
    "class Net(nn.Module):\n",
    "\n",
    "    def __init__(self, n_in, n_mid, n_out):\n",
    "        super(Net, self).__init__()\n",
    "        self.fc1 = nn.Linear(n_in, n_mid)  # 与Chainer不同，None不被接受\n",
    "        self.fc2 = nn.Linear(n_mid, n_mid)\n",
    "        self.fc3 = nn.Linear(n_mid, n_out)\n",
    "\n",
    "    def forward(self, x):\n",
    "        # forwar可以改变，以匹配输入x\n",
    "        h1 = F.relu(self.fc1(x))\n",
    "        h2 = F.relu(self.fc2(h1))\n",
    "        output = self.fc3(h2)\n",
    "        return output\n",
    "\n",
    "\n",
    "model = Net(n_in=28*28*1, n_mid=100, n_out=10)  # 创建网络对象\n",
    "print(model)\n"
   ]
  },
  {
   "cell_type": "code",
   "execution_count": null,
   "metadata": {
    "collapsed": true
   },
   "outputs": [],
   "source": []
  }
 ],
 "metadata": {
  "kernelspec": {
   "display_name": "Python 3",
   "language": "python",
   "name": "python3"
  },
  "language_info": {
   "codemirror_mode": {
    "name": "ipython",
    "version": 3
   },
   "file_extension": ".py",
   "mimetype": "text/x-python",
   "name": "python",
   "nbconvert_exporter": "python",
   "pygments_lexer": "ipython3",
   "version": "3.6.10"
  }
 },
 "nbformat": 4,
 "nbformat_minor": 2
}
